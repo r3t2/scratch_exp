{
 "cells": [
  {
   "cell_type": "markdown",
   "metadata": {},
   "source": [
    "# Example to plot histograms in ipynb\n",
    "Data that is used in the example below is generated using the code at the end of this notebook. But first we'll see an example how to plot histograms using data in csv format. Data from csv format is read using pandas."
   ]
  },
  {
   "cell_type": "code",
   "execution_count": 2,
   "metadata": {
    "collapsed": false
   },
   "outputs": [
    {
     "name": "stdout",
     "output_type": "stream",
     "text": [
      "The autoreload extension is already loaded. To reload it, use:\n",
      "  %reload_ext autoreload\n"
     ]
    }
   ],
   "source": [
    "# imports.\n",
    "import matplotlib.pyplot as plt\n",
    "import pandas as pd\n",
    "import numpy as np\n",
    "\n",
    "%matplotlib inline\n",
    "\n",
    "plt.rcParams['figure.figsize'] = (5.0, 4.0) # set default size of plots\n",
    "plt.rcParams['image.interpolation'] = 'nearest'\n",
    "plt.rcParams['image.cmap'] = 'gray'\n",
    "\n",
    "\n",
    "# for auto-reloading extenrnal modules\n",
    "# see http://stackoverflow.com/questions/1907993/autoreload-of-modules-in-ipython\n",
    "%load_ext autoreload\n",
    "%autoreload 2\n",
    "\n"
   ]
  },
  {
   "cell_type": "code",
   "execution_count": 3,
   "metadata": {
    "collapsed": false
   },
   "outputs": [
    {
     "data": {
      "image/png": "[encoded data removed]",
      "text/plain": [
       "<matplotlib.figure.Figure at 0x48c6208>"
      ]
     },
     "metadata": {},
     "output_type": "display_data"
    }
   ],
   "source": [
    "# read from csv file\n",
    "\n",
    "plt.rcParams['figure.figsize'] = (5.0, 4.0) # set default size of plots\n",
    "def read_and_plot_data(fname):\n",
    "\n",
    "    df = pd.read_csv(fname)\n",
    "\n",
    "    raw_data = df.values\n",
    "    headers = df.columns.values\n",
    "\n",
    "    num_bins = 25\n",
    "    plt.hist(raw_data, num_bins, alpha=0.7, histtype='bar', stacked=True, label=list(headers))\n",
    "    plt.legend(loc=2,prop={'size':10})\n",
    "\n",
    "\n",
    "read_and_plot_data('data_file_0.csv')\n",
    "plt.xlabel('X')\n",
    "plt.ylabel('Freq')\n",
    "plt.title('histogram demo.')\n",
    "plt.show()"
   ]
  },
  {
   "cell_type": "code",
   "execution_count": 4,
   "metadata": {
    "collapsed": false
   },
   "outputs": [
    {
     "ename": "NameError",
     "evalue": "name 'np' is not defined",
     "output_type": "error",
     "traceback": [
      "\u001b[1;31m---------------------------------------------------------------------------\u001b[0m",
      "\u001b[1;31mNameError\u001b[0m                                 Traceback (most recent call last)",
      "\u001b[1;32m<ipython-input-4-2e90793f3355>\u001b[0m in \u001b[0;36m<module>\u001b[1;34m()\u001b[0m\n\u001b[0;32m     16\u001b[0m \u001b[1;33m\u001b[0m\u001b[0m\n\u001b[0;32m     17\u001b[0m \u001b[1;31m# Create a grid of subplots.\u001b[0m\u001b[1;33m\u001b[0m\u001b[1;33m\u001b[0m\u001b[0m\n\u001b[1;32m---> 18\u001b[1;33m \u001b[0mnum_x\u001b[0m \u001b[1;33m=\u001b[0m \u001b[0mint\u001b[0m\u001b[1;33m(\u001b[0m\u001b[0mnp\u001b[0m\u001b[1;33m.\u001b[0m\u001b[0mceil\u001b[0m\u001b[1;33m(\u001b[0m\u001b[0mnp\u001b[0m\u001b[1;33m.\u001b[0m\u001b[0msqrt\u001b[0m\u001b[1;33m(\u001b[0m\u001b[0mnum_data_files\u001b[0m\u001b[1;33m)\u001b[0m\u001b[1;33m)\u001b[0m\u001b[1;33m)\u001b[0m\u001b[1;33m\u001b[0m\u001b[0m\n\u001b[0m\u001b[0;32m     19\u001b[0m \u001b[0mnum_y\u001b[0m \u001b[1;33m=\u001b[0m \u001b[0mint\u001b[0m\u001b[1;33m(\u001b[0m\u001b[0mnp\u001b[0m\u001b[1;33m.\u001b[0m\u001b[0mfloor\u001b[0m\u001b[1;33m(\u001b[0m\u001b[0mnp\u001b[0m\u001b[1;33m.\u001b[0m\u001b[0msqrt\u001b[0m\u001b[1;33m(\u001b[0m\u001b[0mnum_data_files\u001b[0m\u001b[1;33m)\u001b[0m\u001b[1;33m)\u001b[0m\u001b[1;33m)\u001b[0m\u001b[1;33m\u001b[0m\u001b[0m\n\u001b[0;32m     20\u001b[0m \u001b[1;33m\u001b[0m\u001b[0m\n",
      "\u001b[1;31mNameError\u001b[0m: name 'np' is not defined"
     ]
    }
   ],
   "source": [
    "# process multiple files at once\n",
    "\n",
    "import os\n",
    "import re\n",
    "\n",
    "# Get a list of all files and directories in the current directory. \n",
    "list_of_all_files_and_dirs = os.listdir('.')\n",
    "list_of_all_data_files = []\n",
    "\n",
    "# Use only the data_file_x.csv files for this example.\n",
    "for fname in list_of_all_files_and_dirs:\n",
    "    if re.search(r'data_file_\\d*.csv', fname):\n",
    "        list_of_all_data_files.append(fname)\n",
    "\n",
    "num_data_files = len(list_of_all_data_files)\n",
    "\n",
    "# Create a grid of subplots.\n",
    "num_x = int(np.ceil(np.sqrt(num_data_files)))\n",
    "num_y = int(np.floor(np.sqrt(num_data_files)))\n",
    "\n",
    "# Change the size of the figure.\n",
    "plt.rcParams['figure.figsize'] = (14.0, 10.0) # set default size of plots  \n",
    "\n",
    "# Plot histogram for each data file\n",
    "for idx in range(num_data_files):\n",
    "    plt.subplot(num_x, num_y, idx+1)\n",
    "    read_and_plot_data(list_of_all_data_files[idx])\n",
    "\n",
    "plt.show()\n",
    "\n",
    "\n",
    "        \n"
   ]
  },
  {
   "cell_type": "markdown",
   "metadata": {},
   "source": [
    "## Generating data for the example above.\n",
    "For the example above, we will just some standard distrbutions available in numpy."
   ]
  },
  {
   "cell_type": "code",
   "execution_count": null,
   "metadata": {
    "collapsed": false
   },
   "outputs": [],
   "source": [
    "# imports\n",
    "import random\n",
    "import numpy as np\n",
    "import pandas as pd\n",
    "\n",
    "num_data_files = 10\n",
    "vec_size = 500\n",
    "\n",
    "mu = np.random.uniform(0, 1, num_data_files)\n",
    "scale = np.random.uniform(0, 2, num_data_files)\n",
    "labels = ['Gaussian', 'Rayleigh']\n",
    "for n in xrange(num_data_files):\n",
    "    \n",
    "    vec_normal = np.random.normal(loc=mu[n], scale=scale[n], size=vec_size) #loc is mean. scale is std deviation.\n",
    "    vec_rayleigh = np.random.rayleigh(scale=scale[n], size=vec_size) #scale here is the mode of the distribution.\n",
    "    \n",
    "    vec_data = np.stack([vec_normal, vec_rayleigh])\n",
    "    df = pd.DataFrame(vec_data.T )\n",
    "    \n",
    "    df.to_csv('data_file_%d.csv'%n, header=labels, index=False)\n",
    "    \n",
    "print \"Done.\""
   ]
  },
  {
   "cell_type": "code",
   "execution_count": null,
   "metadata": {
    "collapsed": true
   },
   "outputs": [],
   "source": []
  }
 ],
 "metadata": {
  "anaconda-cloud": {},
  "kernelspec": {
   "display_name": "Python [Root]",
   "language": "python",
   "name": "Python [Root]"
  },
  "language_info": {
   "codemirror_mode": {
    "name": "ipython",
    "version": 2
   },
   "file_extension": ".py",
   "mimetype": "text/x-python",
   "name": "python",
   "nbconvert_exporter": "python",
   "pygments_lexer": "ipython2",
   "version": "2.7.12"
  }
 },
 "nbformat": 4,
 "nbformat_minor": 0
}
